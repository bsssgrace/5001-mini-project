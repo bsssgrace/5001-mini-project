{
 "cells": [
  {
   "cell_type": "code",
   "execution_count": 1,
   "id": "c80fc876",
   "metadata": {},
   "outputs": [
    {
     "name": "stdout",
     "output_type": "stream",
     "text": [
      "Requirement already satisfied: pandas>=2.0.0 in c:\\users\\bsssgrace\\anaconda3\\envs\\dads4002\\lib\\site-packages (2.0.1)\n",
      "Requirement already satisfied: python-dateutil>=2.8.2 in c:\\users\\bsssgrace\\anaconda3\\envs\\dads4002\\lib\\site-packages (from pandas>=2.0.0) (2.8.2)\n",
      "Requirement already satisfied: tzdata>=2022.1 in c:\\users\\bsssgrace\\anaconda3\\envs\\dads4002\\lib\\site-packages (from pandas>=2.0.0) (2023.3)\n",
      "Requirement already satisfied: pytz>=2020.1 in c:\\users\\bsssgrace\\anaconda3\\envs\\dads4002\\lib\\site-packages (from pandas>=2.0.0) (2022.7)\n",
      "Requirement already satisfied: numpy>=1.20.3 in c:\\users\\bsssgrace\\anaconda3\\envs\\dads4002\\lib\\site-packages (from pandas>=2.0.0) (1.24.3)\n",
      "Requirement already satisfied: six>=1.5 in c:\\users\\bsssgrace\\anaconda3\\envs\\dads4002\\lib\\site-packages (from python-dateutil>=2.8.2->pandas>=2.0.0) (1.16.0)\n"
     ]
    }
   ],
   "source": [
    "!pip install \"pandas>=2.0.0\""
   ]
  },
  {
   "cell_type": "code",
   "execution_count": 2,
   "id": "c12be4e0",
   "metadata": {},
   "outputs": [
    {
     "name": "stdout",
     "output_type": "stream",
     "text": [
      "Python 3.8.16 (default, Jan 17 2023, 22:25:28) [MSC v.1916 64 bit (AMD64)]\n",
      "Pandas 2.0.1\n",
      "NumPy 1.24.3\n",
      "IPython 7.31.1\n",
      "Matplotlib 3.7.1\n"
     ]
    }
   ],
   "source": [
    "import sys\n",
    "import pandas as pd\n",
    "import numpy as np\n",
    "import IPython\n",
    "from IPython.display import display\n",
    "\n",
    "import matplotlib as mpl\n",
    "%matplotlib inline    \n",
    "import matplotlib.pyplot as plt\n",
    "\n",
    "# https://matplotlib.org/stable/gallery/style_sheets/style_sheets_reference.html\n",
    "plt.style.use('seaborn-v0_8')   # The 'seaborn' style is deprecated\n",
    "\n",
    "print( f\"Python {sys.version}\" )\n",
    "print( f\"Pandas {pd.__version__}\" )\n",
    "print( f\"NumPy {np.__version__}\" )\n",
    "print( f\"IPython {IPython.__version__}\" )\n",
    "print( f\"Matplotlib {mpl.__version__}\" )"
   ]
  },
  {
   "cell_type": "markdown",
   "id": "38e644c0",
   "metadata": {},
   "source": [
    "### Sources"
   ]
  },
  {
   "cell_type": "markdown",
   "id": "d5c9ff73",
   "metadata": {},
   "source": [
    "1) cfd-energy-crude-oil-wti.csv: https://raw.githubusercontent.com/bsssgrace/5001-mini-project/main/cfd-energy-crude-oil-wti.csv  \n",
    "2) cfd-energy-gasoline-natural-gas.csv: https://raw.githubusercontent.com/bsssgrace/5001-mini-project/main/cfd-energy-gasoline-natural-gas.csv\n",
    "3) cfd-energy-heat-oil.csv: https://raw.githubusercontent.com/bsssgrace/5001-mini-project/main/cfd-energy-heat-oil.csv\n",
    "4) cfd-grains-london-wheat-gbp.csv: https://raw.githubusercontent.com/bsssgrace/5001-mini-project/main/cfd-grains-london-wheat-gbp.csv\n",
    "5) cfd-grains-oats.csv: https://raw.githubusercontent.com/bsssgrace/5001-mini-project/main/cfd-grains-oats.csv\n",
    "6) cfd-grains-rough-rice.csv: https://raw.githubusercontent.com/bsssgrace/5001-mini-project/main/cfd-grains-rough-rice.csv\n",
    "7) cfd-grains-us-corn.csv: https://raw.githubusercontent.com/bsssgrace/5001-mini-project/main/cfd-grains-us-corn.csv\n",
    "8) cfd-grains-us-soybean-meal.csv: https://raw.githubusercontent.com/bsssgrace/5001-mini-project/main/cfd-grains-us-soybean-meal.csv\n",
    "9) cfd-grains-us-soybean-oil.csv: https://raw.githubusercontent.com/bsssgrace/5001-mini-project/main/cfd-grains-us-soybean-oil.csv\n",
    "10) cfd-grains-us-soybeans.csv: https://raw.githubusercontent.com/bsssgrace/5001-mini-project/main/cfd-grains-us-soybeans.csv\n",
    "11) cfd-grains-us-wheat.csv: https://raw.githubusercontent.com/bsssgrace/5001-mini-project/main/cfd-grains-us-wheat.csv\n",
    "12) cfd-meat-feeder_cattle.csv: https://raw.githubusercontent.com/bsssgrace/5001-mini-project/main/cfd-meat-feeder_cattle.csv\n",
    "13) cfd-meat-lean_hogs.csv: https://raw.githubusercontent.com/bsssgrace/5001-mini-project/main/cfd-meat-lean_hogs.csv\n",
    "14) cfd-meat-live_cattle.csv: https://raw.githubusercontent.com/bsssgrace/5001-mini-project/main/cfd-meat-live_cattle.csv\n",
    "15) cfd-meat-london-gas-oil.csv: https://raw.githubusercontent.com/bsssgrace/5001-mini-project/main/cfd-meat-london-gas-oil.csv\n",
    "16) cfd-metal-aluminum.csv: https://raw.githubusercontent.com/bsssgrace/5001-mini-project/main/cfd-metal-aluminum.csv\n",
    "17) cfd-metal-copper.csv: https://raw.githubusercontent.com/bsssgrace/5001-mini-project/main/cfd-metal-copper.csv\n",
    "18) cfd-metal-gold.csv: https://raw.githubusercontent.com/bsssgrace/5001-mini-project/main/cfd-metal-gold.csv\n",
    "19) cfd-metal-lead.csv: https://raw.githubusercontent.com/bsssgrace/5001-mini-project/main/cfd-metal-lead.csv\n",
    "20) cfd-metal-nickel.csv: https://raw.githubusercontent.com/bsssgrace/5001-mini-project/main/cfd-metal-nickel.csv\n",
    "21) cfd-metal-palladium.csv: https://raw.githubusercontent.com/bsssgrace/5001-mini-project/main/cfd-metal-palladium.csv\n",
    "22) cfd-metal-platinum.csv: https://raw.githubusercontent.com/bsssgrace/5001-mini-project/main/cfd-metal-platinum.csv\n",
    "23) cfd-metal-silver.csv: https://raw.githubusercontent.com/bsssgrace/5001-mini-project/main/cfd-metal-silver.csv\n",
    "24) cfd-metal-tin.csv: https://raw.githubusercontent.com/bsssgrace/5001-mini-project/main/cfd-metal-tin.csv\n",
    "25) cfd-metal-zinc.csv: https://raw.githubusercontent.com/bsssgrace/5001-mini-project/main/cfd-metal-zinc.csv\n",
    "26) cfd-softs-cocoa-london-gbp.csv: https://raw.githubusercontent.com/bsssgrace/5001-mini-project/main/cfd-softs-cocoa-london-gbp.csv\n",
    "27) cfd-softs-lumber.csv: https://raw.githubusercontent.com/bsssgrace/5001-mini-project/main/cfd-softs-lumber.csv\n",
    "28) cfd-softs-orange-juice.csv: https://raw.githubusercontent.com/bsssgrace/5001-mini-project/main/cfd-softs-orange-juice.csv\n",
    "29) cfd-softs-robusta-coffee-london.csv: https://raw.githubusercontent.com/bsssgrace/5001-mini-project/main/cfd-softs-robusta-coffee-london.csv\n",
    "30) cfd-softs-sugar-london.csv: https://raw.githubusercontent.com/bsssgrace/5001-mini-project/main/cfd-softs-sugar-london.csv\n",
    "31) cfd-softs-us-cocoa.csv: https://raw.githubusercontent.com/bsssgrace/5001-mini-project/main/cfd-softs-us-cocoa.csv\n",
    "32) cfd-softs-us-coffee-c.csv: https://raw.githubusercontent.com/bsssgrace/5001-mini-project/main/cfd-softs-us-coffee-c.csv\n",
    "33) cfd-softs-us-cotton-2.csv: https://raw.githubusercontent.com/bsssgrace/5001-mini-project/main/cfd-softs-us-cotton-2.csv\n",
    "34) cfd-softs-us-sugar-11.csv: https://raw.githubusercontent.com/bsssgrace/5001-mini-project/main/cfd-softs-us-sugar-11.csv\n",
    "35) who-covid-19-global-data.csv: https://github.com/bsssgrace/5001-mini-project/raw/main/who-covid-19-global-data.csv"
   ]
  }
 ],
 "metadata": {
  "kernelspec": {
   "display_name": "Python 3 (ipykernel)",
   "language": "python",
   "name": "python3"
  },
  "language_info": {
   "codemirror_mode": {
    "name": "ipython",
    "version": 3
   },
   "file_extension": ".py",
   "mimetype": "text/x-python",
   "name": "python",
   "nbconvert_exporter": "python",
   "pygments_lexer": "ipython3",
   "version": "3.8.16"
  }
 },
 "nbformat": 4,
 "nbformat_minor": 5
}
